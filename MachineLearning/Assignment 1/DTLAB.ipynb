{
 "cells": [
  {
   "cell_type": "code",
   "execution_count": 1,
   "metadata": {
    "pycharm": {
     "is_executing": false,
     "name": "#%%\n"
    }
   },
   "outputs": [],
   "source": [
    "import matplotlib.pyplot as plt\n",
    "import pandas as pd\n",
    "import numpy as np\n",
    "from sklearn.tree import DecisionTreeClassifier\n",
    "from sklearn.model_selection import train_test_split\n",
    "from sklearn.model_selection import cross_val_score\n",
    "\n",
    "\n",
    "diabetes_data = pd.read_csv(\"diabetes.csv\")\n",
    "# drop values with a \"?\" mark in it\n",
    "breast_cancer_data = pd.read_csv(\"breast-w.csv\", na_values=\"?\")\n",
    "breast_cancer_data = breast_cancer_data.dropna()\n"
   ]
  },
  {
   "cell_type": "code",
   "execution_count": 2,
   "metadata": {
    "pycharm": {
     "is_executing": false,
     "name": "#%%\n"
    }
   },
   "outputs": [
    {
     "data": {
      "text/plain": "   Clump_Thickness  Cell_Size_Uniformity  Cell_Shape_Uniformity  \\\n0                5                     1                      1   \n1                5                     4                      4   \n2                3                     1                      1   \n3                6                     8                      8   \n4                4                     1                      1   \n\n   Marginal_Adhesion  Single_Epi_Cell_Size  Bare_Nuclei  Bland_Chromatin  \\\n0                  1                     2          1.0                3   \n1                  5                     7         10.0                3   \n2                  1                     2          2.0                3   \n3                  1                     3          4.0                3   \n4                  3                     2          1.0                3   \n\n   Normal_Nucleoli  Mitoses   Class  \n0                1        1  benign  \n1                2        1  benign  \n2                1        1  benign  \n3                7        1  benign  \n4                1        1  benign  ",
      "text/html": "<div>\n<style scoped>\n    .dataframe tbody tr th:only-of-type {\n        vertical-align: middle;\n    }\n\n    .dataframe tbody tr th {\n        vertical-align: top;\n    }\n\n    .dataframe thead th {\n        text-align: right;\n    }\n</style>\n<table border=\"1\" class=\"dataframe\">\n  <thead>\n    <tr style=\"text-align: right;\">\n      <th></th>\n      <th>Clump_Thickness</th>\n      <th>Cell_Size_Uniformity</th>\n      <th>Cell_Shape_Uniformity</th>\n      <th>Marginal_Adhesion</th>\n      <th>Single_Epi_Cell_Size</th>\n      <th>Bare_Nuclei</th>\n      <th>Bland_Chromatin</th>\n      <th>Normal_Nucleoli</th>\n      <th>Mitoses</th>\n      <th>Class</th>\n    </tr>\n  </thead>\n  <tbody>\n    <tr>\n      <th>0</th>\n      <td>5</td>\n      <td>1</td>\n      <td>1</td>\n      <td>1</td>\n      <td>2</td>\n      <td>1.0</td>\n      <td>3</td>\n      <td>1</td>\n      <td>1</td>\n      <td>benign</td>\n    </tr>\n    <tr>\n      <th>1</th>\n      <td>5</td>\n      <td>4</td>\n      <td>4</td>\n      <td>5</td>\n      <td>7</td>\n      <td>10.0</td>\n      <td>3</td>\n      <td>2</td>\n      <td>1</td>\n      <td>benign</td>\n    </tr>\n    <tr>\n      <th>2</th>\n      <td>3</td>\n      <td>1</td>\n      <td>1</td>\n      <td>1</td>\n      <td>2</td>\n      <td>2.0</td>\n      <td>3</td>\n      <td>1</td>\n      <td>1</td>\n      <td>benign</td>\n    </tr>\n    <tr>\n      <th>3</th>\n      <td>6</td>\n      <td>8</td>\n      <td>8</td>\n      <td>1</td>\n      <td>3</td>\n      <td>4.0</td>\n      <td>3</td>\n      <td>7</td>\n      <td>1</td>\n      <td>benign</td>\n    </tr>\n    <tr>\n      <th>4</th>\n      <td>4</td>\n      <td>1</td>\n      <td>1</td>\n      <td>3</td>\n      <td>2</td>\n      <td>1.0</td>\n      <td>3</td>\n      <td>1</td>\n      <td>1</td>\n      <td>benign</td>\n    </tr>\n  </tbody>\n</table>\n</div>"
     },
     "metadata": {},
     "output_type": "execute_result",
     "execution_count": 2
    }
   ],
   "source": [
    "breast_cancer_data.head()\n"
   ]
  },
  {
   "cell_type": "code",
   "execution_count": 3,
   "metadata": {
    "pycharm": {
     "is_executing": false,
     "name": "#%%\n"
    }
   },
   "outputs": [
    {
     "data": {
      "text/plain": "   preg  plas  pres  skin  insu  mass   pedi  age            class\n0     6   148    72    35     0  33.6  0.627   50  tested_positive\n1     1    85    66    29     0  26.6  0.351   31  tested_negative\n2     8   183    64     0     0  23.3  0.672   32  tested_positive\n3     1    89    66    23    94  28.1  0.167   21  tested_negative\n4     0   137    40    35   168  43.1  2.288   33  tested_positive",
      "text/html": "<div>\n<style scoped>\n    .dataframe tbody tr th:only-of-type {\n        vertical-align: middle;\n    }\n\n    .dataframe tbody tr th {\n        vertical-align: top;\n    }\n\n    .dataframe thead th {\n        text-align: right;\n    }\n</style>\n<table border=\"1\" class=\"dataframe\">\n  <thead>\n    <tr style=\"text-align: right;\">\n      <th></th>\n      <th>preg</th>\n      <th>plas</th>\n      <th>pres</th>\n      <th>skin</th>\n      <th>insu</th>\n      <th>mass</th>\n      <th>pedi</th>\n      <th>age</th>\n      <th>class</th>\n    </tr>\n  </thead>\n  <tbody>\n    <tr>\n      <th>0</th>\n      <td>6</td>\n      <td>148</td>\n      <td>72</td>\n      <td>35</td>\n      <td>0</td>\n      <td>33.6</td>\n      <td>0.627</td>\n      <td>50</td>\n      <td>tested_positive</td>\n    </tr>\n    <tr>\n      <th>1</th>\n      <td>1</td>\n      <td>85</td>\n      <td>66</td>\n      <td>29</td>\n      <td>0</td>\n      <td>26.6</td>\n      <td>0.351</td>\n      <td>31</td>\n      <td>tested_negative</td>\n    </tr>\n    <tr>\n      <th>2</th>\n      <td>8</td>\n      <td>183</td>\n      <td>64</td>\n      <td>0</td>\n      <td>0</td>\n      <td>23.3</td>\n      <td>0.672</td>\n      <td>32</td>\n      <td>tested_positive</td>\n    </tr>\n    <tr>\n      <th>3</th>\n      <td>1</td>\n      <td>89</td>\n      <td>66</td>\n      <td>23</td>\n      <td>94</td>\n      <td>28.1</td>\n      <td>0.167</td>\n      <td>21</td>\n      <td>tested_negative</td>\n    </tr>\n    <tr>\n      <th>4</th>\n      <td>0</td>\n      <td>137</td>\n      <td>40</td>\n      <td>35</td>\n      <td>168</td>\n      <td>43.1</td>\n      <td>2.288</td>\n      <td>33</td>\n      <td>tested_positive</td>\n    </tr>\n  </tbody>\n</table>\n</div>"
     },
     "metadata": {},
     "output_type": "execute_result",
     "execution_count": 3
    }
   ],
   "source": [
    "diabetes_data.head()\n",
    "\n"
   ]
  },
  {
   "cell_type": "code",
   "execution_count": 4,
   "metadata": {
    "pycharm": {
     "is_executing": false,
     "name": "#%%\n"
    }
   },
   "outputs": [],
   "source": [
    "# X as the features and y as the data\n",
    "X_bc = breast_cancer_data.drop('Class', axis = 1)\n",
    "Y_bc = breast_cancer_data['Class']\n",
    "\n",
    "X_db = diabetes_data.drop('class', axis = 1)\n",
    "Y_db = diabetes_data['class']\n",
    "\n",
    "\n",
    "\n",
    "\n"
   ]
  },
  {
   "cell_type": "code",
   "execution_count": 5,
   "metadata": {
    "pycharm": {
     "is_executing": false,
     "name": "#%%\n"
    }
   },
   "outputs": [],
   "source": [
    "# here test_size = 0.3 means 30% of the data is used for testing/validating and 70% for training \n",
    "train_X_bc, val_X_bc, train_Y_bc, val_Y_bc = train_test_split(X_bc, Y_bc, test_size=0.3)\n",
    "train_X_db, val_X_db, train_Y_db, val_Y_db = train_test_split(X_db, Y_db, test_size=0.3)\n",
    "\n",
    "\n",
    "\n",
    "\n"
   ]
  },
  {
   "cell_type": "code",
   "execution_count": 6,
   "metadata": {
    "pycharm": {
     "is_executing": false,
     "name": "#%%\n"
    }
   },
   "outputs": [],
   "source": [
    "# creating one and multi level model using DecisionTreeClassifier\n",
    "breast_cancer_model = DecisionTreeClassifier(criterion = \"entropy\", max_depth = 1)\n",
    "breast_cancer_model_multilvl = DecisionTreeClassifier(criterion = \"entropy\")\n",
    "diabetes_model = DecisionTreeClassifier(criterion = \"entropy\", max_depth = 1)\n",
    "diabetes_model_multilvl = DecisionTreeClassifier(criterion = \"entropy\")\n",
    "\n",
    "\n"
   ]
  },
  {
   "cell_type": "code",
   "execution_count": 7,
   "metadata": {
    "pycharm": {
     "is_executing": false,
     "name": "#%%\n"
    }
   },
   "outputs": [
    {
     "data": {
      "text/plain": "DecisionTreeClassifier(class_weight=None, criterion='entropy', max_depth=1,\n            max_features=None, max_leaf_nodes=None,\n            min_impurity_decrease=0.0, min_impurity_split=None,\n            min_samples_leaf=1, min_samples_split=2,\n            min_weight_fraction_leaf=0.0, presort=False, random_state=None,\n            splitter='best')"
     },
     "metadata": {},
     "output_type": "execute_result",
     "execution_count": 7
    }
   ],
   "source": [
    "# fitting training data \n",
    "breast_cancer_model.fit(train_X_bc, train_Y_bc)\n",
    "diabetes_model.fit(train_X_db, train_Y_db)\n",
    "\n",
    "\n",
    "\n",
    "\n"
   ]
  },
  {
   "cell_type": "code",
   "execution_count": 8,
   "metadata": {
    "pycharm": {
     "is_executing": false,
     "name": "#%%\n"
    }
   },
   "outputs": [
    {
     "name": "stdout",
     "text": [
      "['benign' 'benign' 'malignant' 'benign' 'malignant']\n['tested_positive' 'tested_negative' 'tested_negative' 'tested_negative'\n 'tested_negative']\n"
     ],
     "output_type": "stream"
    }
   ],
   "source": [
    "# printing the first values of our predicitons\n",
    "print(breast_cancer_model.predict(val_X_bc.head()))\n",
    "print(diabetes_model.predict(val_X_db.head()))\n",
    "\n",
    "\n",
    "\n",
    "\n"
   ]
  },
  {
   "cell_type": "code",
   "execution_count": 9,
   "metadata": {
    "pycharm": {
     "is_executing": false,
     "name": "#%%\n"
    }
   },
   "outputs": [
    {
     "name": "stdout",
     "text": [
      "Average for the one-level cross-validation for breast cancer: \n0.9093124530798692\nAverage for the one-level cross-validation for diabetes: \n0.7149008885850991\n"
     ],
     "output_type": "stream"
    }
   ],
   "source": [
    "# One Level\n",
    "# returns a list \n",
    "# cross reference describes the model quality\n",
    "# for all the data \n",
    "cv_scoring_bc = cross_val_score(breast_cancer_model, X_bc, Y_bc, cv = 10)\n",
    "print(\"Average for the one-level cross-validation for breast cancer: \")\n",
    "print(np.mean(cv_scoring_bc))\n",
    "\n",
    "cv_scoring_db = cross_val_score(diabetes_model, X_db, Y_db, cv = 10)\n",
    "print(\"Average for the one-level cross-validation for diabetes: \")\n",
    "print(np.mean(cv_scoring_db))\n"
   ]
  },
  {
   "cell_type": "code",
   "execution_count": 10,
   "metadata": {
    "pycharm": {
     "is_executing": false,
     "name": "#%%\n"
    }
   },
   "outputs": [],
   "source": [
    "#acc_rate_bc = breast_cancer_model.score(val_X_bc, val_Y_bc)\n",
    "#print(\"Accuracy rate for breast cancer: \")\n",
    "#print(acc_rate_bc)\n",
    "\n",
    "#acc_rate_db = diabetes_model.score(val_X_db, val_Y_db)\n",
    "#print(\"Accuracy rate for diabetes: \")\n",
    "#print(acc_rate_db)\n"
   ]
  },
  {
   "cell_type": "code",
   "execution_count": 11,
   "metadata": {
    "pycharm": {
     "is_executing": false,
     "name": "#%%\n"
    }
   },
   "outputs": [
    {
     "name": "stdout",
     "text": [
      "['benign' 'benign' 'malignant' 'benign' 'malignant']\n['tested_positive' 'tested_negative' 'tested_negative' 'tested_negative'\n 'tested_negative']\n"
     ],
     "output_type": "stream"
    }
   ],
   "source": [
    "# fitting training data and predicting validation data\n",
    "breast_cancer_model_multilvl.fit(train_X_bc, train_Y_bc)\n",
    "diabetes_model_multilvl.fit(train_X_db, train_Y_db)\n",
    "\n",
    "print(breast_cancer_model_multilvl.predict(val_X_bc.head()))\n",
    "print(diabetes_model_multilvl.predict(val_X_db.head()))"
   ]
  },
  {
   "cell_type": "code",
   "execution_count": 12,
   "metadata": {
    "pycharm": {
     "is_executing": false,
     "name": "#%%\n"
    }
   },
   "outputs": [
    {
     "name": "stdout",
     "text": [
      "Average for the multilevel cross-validation for breast cancer: \n0.9430927205405197\n",
      "Average for the multilevel cross-validation for diabetes: \n0.7030929596719071\n"
     ],
     "output_type": "stream"
    }
   ],
   "source": [
    "#Multi-Level\n",
    "cv_scoring_bc_multilvl = cross_val_score(breast_cancer_model_multilvl, X_bc, Y_bc, cv = 10)\n",
    "print(\"Average for the multilevel cross-validation for breast cancer: \")\n",
    "print(np.mean(cv_scoring_bc_multilvl))\n",
    "\n",
    "cv_scoring_db_multilvl = cross_val_score(diabetes_model_multilvl, X_db, Y_db, cv = 10)\n",
    "print(\"Average for the multilevel cross-validation for diabetes: \")\n",
    "print(np.mean(cv_scoring_db_multilvl))\n"
   ]
  },
  {
   "cell_type": "code",
   "execution_count": 13,
   "metadata": {
    "pycharm": {
     "is_executing": false,
     "name": "#%%\n"
    }
   },
   "outputs": [],
   "source": [
    "#acc_rate_bc_multilvl = breast_cancer_model_multilvl.score(val_X_bc, val_Y_bc)\n",
    "#print(\"Accuracy rate for breast cancer for the multilevel: \")\n",
    "#print(acc_rate_bc_multilvl)\n",
    "#acc_rate_db_multilvl = diabetes_model_multilvl.score(val_X_db, val_Y_db)\n",
    "#print(\"Accuracy rate for diabetes for the multilevel: \")\n",
    "#print(acc_rate_db_multilvl)\n",
    "\n"
   ]
  },
  {
   "cell_type": "code",
   "execution_count": 14,
   "metadata": {
    "pycharm": {
     "is_executing": false,
     "name": "#%%\n"
    }
   },
   "outputs": [],
   "source": [
    "# breast cancer \n",
    "# whole step size not including 1-10, since we want to look at these values more specific\n",
    "breast_cancer_stepsize = [50,150,250,350,450,550,650, len(breast_cancer_data)]\n",
    "breast_cancer_step1= []\n",
    "breast_cancer_step2 = []"
   ]
  },
  {
   "cell_type": "code",
   "execution_count": 15,
   "metadata": {
    "pycharm": {
     "is_executing": false,
     "name": "#%%\n"
    }
   },
   "outputs": [
    {
     "data": {
      "text/plain": "[<matplotlib.lines.Line2D at 0x12698d310>]"
     },
     "metadata": {},
     "output_type": "execute_result",
     "execution_count": 15
    },
    {
     "data": {
      "image/png": "[encoded data removed]",
      "text/plain": "<Figure size 432x288 with 1 Axes>"
     },
     "metadata": {
      "needs_background": "light"
     },
     "output_type": "display_data"
    }
   ],
   "source": [
    "# now working with min_samples leaf (controlling over and underfitting)\n",
    "for i in range(1,11):\n",
    "    breast_cancer_model_multilvl = DecisionTreeClassifier(criterion=\"entropy\", min_samples_leaf=i)\n",
    "    breast_cancer_model_multilvl.fit(train_X_bc, train_Y_bc)\n",
    "    cv_scoring = cross_val_score(breast_cancer_model_multilvl, X_bc, Y_bc, cv = 10)\n",
    "    scoring_mean = np.mean(cv_scoring)\n",
    "    breast_cancer_step1.append(scoring_mean)\n",
    "    \n",
    "plt.plot(np.array([1,2,3,4,5,6,7,8,9,10]), np.array(breast_cancer_step1))"
   ]
  },
  {
   "cell_type": "code",
   "execution_count": 16,
   "metadata": {
    "pycharm": {
     "is_executing": false,
     "name": "#%%\n"
    }
   },
   "outputs": [
    {
     "data": {
      "text/plain": "[<matplotlib.lines.Line2D at 0x10ad2ca90>]"
     },
     "metadata": {},
     "output_type": "execute_result",
     "execution_count": 16
    },
    {
     "data": {
      "image/png": "[encoded data removed]",
      "text/plain": "<Figure size 432x288 with 1 Axes>"
     },
     "metadata": {
      "needs_background": "light"
     },
     "output_type": "display_data"
    }
   ],
   "source": [
    "for i in breast_cancer_stepsize:\n",
    "    breast_cancer_model_multilvl = DecisionTreeClassifier(criterion=\"entropy\", min_samples_leaf=i)\n",
    "    breast_cancer_model_multilvl.fit(train_X_bc, train_Y_bc)\n",
    "    cv_scoring = cross_val_score(breast_cancer_model_multilvl, X_bc, Y_bc, cv = 10)\n",
    "    scoring_mean = np.mean(cv_scoring)\n",
    "    breast_cancer_step2.append(scoring_mean)\n",
    "    \n",
    "    \n",
    "plt.plot(breast_cancer_stepsize, breast_cancer_step2)"
   ]
  },
  {
   "cell_type": "code",
   "execution_count": 17,
   "metadata": {
    "pycharm": {
     "is_executing": false,
     "name": "#%%\n"
    }
   },
   "outputs": [],
   "source": [
    "#diabetes \n",
    "diabetes_stepsize = [50,150,250,350,450,550,650, 700, len(diabetes_data)]\n",
    "diabetes_step1 = []\n",
    "diabetes_step2 = []"
   ]
  },
  {
   "cell_type": "code",
   "execution_count": 18,
   "outputs": [
    {
     "data": {
      "text/plain": "[<matplotlib.lines.Line2D at 0x10ada76d0>]"
     },
     "metadata": {},
     "output_type": "execute_result",
     "execution_count": 18
    },
    {
     "data": {
      "image/png": "[encoded data removed]",
      "text/plain": "<Figure size 432x288 with 1 Axes>"
     },
     "metadata": {
      "needs_background": "light"
     },
     "output_type": "display_data"
    }
   ],
   "source": [
    "for i in range(1,11):\n",
    "    diabetes_model_multilvl = DecisionTreeClassifier(criterion=\"entropy\", min_samples_leaf=i)\n",
    "    diabetes_model_multilvl.fit(train_X_db, train_Y_db)\n",
    "    cv_scoring = cross_val_score(diabetes_model_multilvl, X_db, Y_db, cv = 10)\n",
    "    scoring_mean = np.mean(cv_scoring)\n",
    "    diabetes_step1.append(scoring_mean)\n",
    "    \n",
    "plt.plot(np.array([1,2,3,4,5,6,7,8,9,10]), np.array(diabetes_step1))"
   ],
   "metadata": {
    "collapsed": false,
    "pycharm": {
     "name": "#%%\n",
     "is_executing": false
    }
   }
  },
  {
   "cell_type": "code",
   "execution_count": 19,
   "outputs": [
    {
     "data": {
      "text/plain": "[<matplotlib.lines.Line2D at 0x126a5eed0>]"
     },
     "metadata": {},
     "output_type": "execute_result",
     "execution_count": 19
    },
    {
     "data": {
      "image/png": "[encoded data removed]",
      "text/plain": "<Figure size 432x288 with 1 Axes>"
     },
     "metadata": {
      "needs_background": "light"
     },
     "output_type": "display_data"
    }
   ],
   "source": [
    "for i in diabetes_stepsize:\n",
    "    diabetes_model_multilvl = DecisionTreeClassifier(criterion=\"entropy\", min_samples_leaf=i)\n",
    "    diabetes_model_multilvl.fit(train_X_db, train_Y_db)\n",
    "    cv_scoring = cross_val_score(diabetes_model_multilvl, X_db, Y_db, cv = 10)\n",
    "    scoring_mean = np.mean(cv_scoring)\n",
    "    diabetes_step2.append(scoring_mean)\n",
    "    \n",
    "plt.plot(diabetes_stepsize, np.array(diabetes_step2))"
   ],
   "metadata": {
    "collapsed": false,
    "pycharm": {
     "name": "#%%\n",
     "is_executing": false
    }
   }
  }
 ],
 "metadata": {
  "kernelspec": {
   "display_name": "Python 2",
   "language": "python",
   "name": "python2"
  },
  "language_info": {
   "codemirror_mode": {
    "name": "ipython",
    "version": 2
   },
   "file_extension": ".py",
   "mimetype": "text/x-python",
   "name": "python",
   "nbconvert_exporter": "python",
   "pygments_lexer": "ipython2",
   "version": "2.7.10"
  },
  "pycharm": {
   "stem_cell": {
    "cell_type": "raw",
    "source": [],
    "metadata": {
     "collapsed": false
    }
   }
  }
 },
 "nbformat": 4,
 "nbformat_minor": 1
}
